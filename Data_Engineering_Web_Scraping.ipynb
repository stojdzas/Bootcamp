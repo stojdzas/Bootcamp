{
 "cells": [
  {
   "cell_type": "code",
   "execution_count": 29,
   "id": "91e03aec-48ed-466a-b732-786762adc71f",
   "metadata": {},
   "outputs": [
    {
     "name": "stdout",
     "output_type": "stream",
     "text": [
      "Requirement already satisfied: beautifulsoup4 in /opt/anaconda3/lib/python3.12/site-packages (4.12.3)\n",
      "Requirement already satisfied: soupsieve>1.2 in /opt/anaconda3/lib/python3.12/site-packages (from beautifulsoup4) (2.5)\n"
     ]
    }
   ],
   "source": [
    " !pip install beautifulsoup4"
   ]
  },
  {
   "cell_type": "code",
   "execution_count": 30,
   "id": "3c07fb1b-4eba-433f-9ac3-b69b64f35c6e",
   "metadata": {},
   "outputs": [],
   "source": [
    "import pandas as pd\n",
    "import requests\n",
    "from bs4 import BeautifulSoup\n",
    "import sqlalchemy\n",
    "import datetime as dt\n",
    "import re\n",
    "import keys"
   ]
  },
  {
   "cell_type": "code",
   "execution_count": 31,
   "id": "30f9a253-d8b9-42cf-8481-10d575b6c128",
   "metadata": {},
   "outputs": [],
   "source": [
    "def get_city_data(cities_list):\n",
    "  cities_data = []\n",
    "  for city in cities_list:\n",
    "    wikipedia_url = \"https://www.wikipedia.org/wiki/\"\n",
    "    response = requests.get(wikipedia_url + city)\n",
    "    city_soup = BeautifulSoup(response.content, 'html.parser')\n",
    "\n",
    "    city_data = {\n",
    "        'City': city,\n",
    "        'Country': city_soup.find(\"th\", string=\"Country\").find_next().get_text(),\n",
    "        'Longitude': city_soup.find(class_=\"longitude\").get_text(),\n",
    "        'Latitude': city_soup.find(class_=\"latitude\").get_text()\n",
    "    }\n",
    "    cities_data.append(city_data)\n",
    "  return pd.DataFrame(cities_data)"
   ]
  },
  {
   "cell_type": "code",
   "execution_count": 32,
   "id": "7bb658c8-5fa7-471d-a4d1-4e7273b3a597",
   "metadata": {},
   "outputs": [],
   "source": [
    "def get_population_data(cities_list):\n",
    "  population_data = []\n",
    "  for city in cities_list:\n",
    "    wikipedia_url = \"https://www.wikipedia.org/wiki/\"\n",
    "    response = requests.get(wikipedia_url + city)\n",
    "    city_soup = BeautifulSoup(response.content, 'html.parser')\n",
    "\n",
    "    pop = city_soup.find(string=\"Population\").find_next('td').get_text()\n",
    "    int_pop = int(pop.replace(',',''))\n",
    "\n",
    "    pop_data = {\n",
    "        'City': city,\n",
    "        'Population': int_pop,\n",
    "        'Timestamp_': dt.datetime.now().strftime('%d/%m/%y')\n",
    "    }\n",
    "    population_data.append(pop_data)\n",
    "  return pd.DataFrame(population_data)"
   ]
  },
  {
   "cell_type": "code",
   "execution_count": 37,
   "id": "4fd26226-7628-45f3-88af-3bf264e056b7",
   "metadata": {},
   "outputs": [],
   "source": [
    "schema = \"sql_cities\"\n",
    "host = \"127.0.0.1\"\n",
    "user = \"root\"\n",
    "password = keys.connection_password\n",
    "port = 3306\n",
    "\n",
    "connection_string = f'mysql+pymysql://{user}:{password}@{host}:{port}/{schema}'"
   ]
  },
  {
   "cell_type": "code",
   "execution_count": 39,
   "id": "ff3e0abd-3fe5-4e07-8bcc-6b9f63afc113",
   "metadata": {},
   "outputs": [],
   "source": [
    "cities_list = ['Berlin','Munich','Madrid']"
   ]
  },
  {
   "cell_type": "code",
   "execution_count": 41,
   "id": "61f784d5-796c-4bfb-a27f-c4aadc8f195a",
   "metadata": {},
   "outputs": [
    {
     "data": {
      "text/html": [
       "<div>\n",
       "<style scoped>\n",
       "    .dataframe tbody tr th:only-of-type {\n",
       "        vertical-align: middle;\n",
       "    }\n",
       "\n",
       "    .dataframe tbody tr th {\n",
       "        vertical-align: top;\n",
       "    }\n",
       "\n",
       "    .dataframe thead th {\n",
       "        text-align: right;\n",
       "    }\n",
       "</style>\n",
       "<table border=\"1\" class=\"dataframe\">\n",
       "  <thead>\n",
       "    <tr style=\"text-align: right;\">\n",
       "      <th></th>\n",
       "      <th>City</th>\n",
       "      <th>Country</th>\n",
       "      <th>Longitude</th>\n",
       "      <th>Latitude</th>\n",
       "    </tr>\n",
       "  </thead>\n",
       "  <tbody>\n",
       "    <tr>\n",
       "      <th>0</th>\n",
       "      <td>Berlin</td>\n",
       "      <td>Germany</td>\n",
       "      <td>13°24′18″E</td>\n",
       "      <td>52°31′12″N</td>\n",
       "    </tr>\n",
       "    <tr>\n",
       "      <th>1</th>\n",
       "      <td>Munich</td>\n",
       "      <td>Germany</td>\n",
       "      <td>11°34′30″E</td>\n",
       "      <td>48°08′15″N</td>\n",
       "    </tr>\n",
       "    <tr>\n",
       "      <th>2</th>\n",
       "      <td>Madrid</td>\n",
       "      <td>Country</td>\n",
       "      <td>03°42′12″W</td>\n",
       "      <td>40°25′01″N</td>\n",
       "    </tr>\n",
       "  </tbody>\n",
       "</table>\n",
       "</div>"
      ],
      "text/plain": [
       "     City  Country   Longitude    Latitude\n",
       "0  Berlin  Germany  13°24′18″E  52°31′12″N\n",
       "1  Munich  Germany  11°34′30″E  48°08′15″N\n",
       "2  Madrid  Country  03°42′12″W  40°25′01″N"
      ]
     },
     "execution_count": 41,
     "metadata": {},
     "output_type": "execute_result"
    }
   ],
   "source": [
    "cities_df = get_city_data(cities_list)\n",
    "cities_df"
   ]
  },
  {
   "cell_type": "code",
   "execution_count": 42,
   "id": "353f8b8b-6c1d-40d3-a39c-38a42f7b5558",
   "metadata": {},
   "outputs": [
    {
     "data": {
      "text/plain": [
       "3"
      ]
     },
     "execution_count": 42,
     "metadata": {},
     "output_type": "execute_result"
    }
   ],
   "source": [
    "cities_df.to_sql('cities',\n",
    "                  if_exists='append',\n",
    "                  con=connection_string,\n",
    "                  index=False)"
   ]
  },
  {
   "cell_type": "code",
   "execution_count": 45,
   "id": "fdb9f79b-6495-45b9-8b7c-715fea24ae40",
   "metadata": {},
   "outputs": [
    {
     "data": {
      "text/html": [
       "<div>\n",
       "<style scoped>\n",
       "    .dataframe tbody tr th:only-of-type {\n",
       "        vertical-align: middle;\n",
       "    }\n",
       "\n",
       "    .dataframe tbody tr th {\n",
       "        vertical-align: top;\n",
       "    }\n",
       "\n",
       "    .dataframe thead th {\n",
       "        text-align: right;\n",
       "    }\n",
       "</style>\n",
       "<table border=\"1\" class=\"dataframe\">\n",
       "  <thead>\n",
       "    <tr style=\"text-align: right;\">\n",
       "      <th></th>\n",
       "      <th>city_id</th>\n",
       "      <th>City</th>\n",
       "      <th>Country</th>\n",
       "      <th>Longitude</th>\n",
       "      <th>Latitude</th>\n",
       "    </tr>\n",
       "  </thead>\n",
       "  <tbody>\n",
       "    <tr>\n",
       "      <th>0</th>\n",
       "      <td>1</td>\n",
       "      <td>Berlin</td>\n",
       "      <td>Germany</td>\n",
       "      <td>13°24′18″E</td>\n",
       "      <td>52°31′12″N</td>\n",
       "    </tr>\n",
       "    <tr>\n",
       "      <th>1</th>\n",
       "      <td>2</td>\n",
       "      <td>Munich</td>\n",
       "      <td>Germany</td>\n",
       "      <td>11°34′30″E</td>\n",
       "      <td>48°08′15″N</td>\n",
       "    </tr>\n",
       "    <tr>\n",
       "      <th>2</th>\n",
       "      <td>3</td>\n",
       "      <td>Madrid</td>\n",
       "      <td>Country</td>\n",
       "      <td>03°42′12″W</td>\n",
       "      <td>40°25′01″N</td>\n",
       "    </tr>\n",
       "  </tbody>\n",
       "</table>\n",
       "</div>"
      ],
      "text/plain": [
       "   city_id    City  Country   Longitude    Latitude\n",
       "0        1  Berlin  Germany  13°24′18″E  52°31′12″N\n",
       "1        2  Munich  Germany  11°34′30″E  48°08′15″N\n",
       "2        3  Madrid  Country  03°42′12″W  40°25′01″N"
      ]
     },
     "execution_count": 45,
     "metadata": {},
     "output_type": "execute_result"
    }
   ],
   "source": [
    "cities_from_sql = pd.read_sql(\"cities\", con=connection_string)\n",
    "cities_from_sql"
   ]
  },
  {
   "cell_type": "code",
   "execution_count": 47,
   "id": "195dbffc-8f14-4631-9a62-2ffbe7da4ef3",
   "metadata": {},
   "outputs": [
    {
     "data": {
      "text/html": [
       "<div>\n",
       "<style scoped>\n",
       "    .dataframe tbody tr th:only-of-type {\n",
       "        vertical-align: middle;\n",
       "    }\n",
       "\n",
       "    .dataframe tbody tr th {\n",
       "        vertical-align: top;\n",
       "    }\n",
       "\n",
       "    .dataframe thead th {\n",
       "        text-align: right;\n",
       "    }\n",
       "</style>\n",
       "<table border=\"1\" class=\"dataframe\">\n",
       "  <thead>\n",
       "    <tr style=\"text-align: right;\">\n",
       "      <th></th>\n",
       "      <th>City</th>\n",
       "      <th>Population</th>\n",
       "      <th>Timestamp_</th>\n",
       "    </tr>\n",
       "  </thead>\n",
       "  <tbody>\n",
       "    <tr>\n",
       "      <th>0</th>\n",
       "      <td>Berlin</td>\n",
       "      <td>3596999</td>\n",
       "      <td>28/01/25</td>\n",
       "    </tr>\n",
       "    <tr>\n",
       "      <th>1</th>\n",
       "      <td>Munich</td>\n",
       "      <td>1510378</td>\n",
       "      <td>28/01/25</td>\n",
       "    </tr>\n",
       "    <tr>\n",
       "      <th>2</th>\n",
       "      <td>Madrid</td>\n",
       "      <td>3223334</td>\n",
       "      <td>28/01/25</td>\n",
       "    </tr>\n",
       "  </tbody>\n",
       "</table>\n",
       "</div>"
      ],
      "text/plain": [
       "     City  Population Timestamp_\n",
       "0  Berlin     3596999   28/01/25\n",
       "1  Munich     1510378   28/01/25\n",
       "2  Madrid     3223334   28/01/25"
      ]
     },
     "execution_count": 47,
     "metadata": {},
     "output_type": "execute_result"
    }
   ],
   "source": [
    "pop_data_df = get_population_data(cities_from_sql['City'])\n",
    "pop_data_df"
   ]
  },
  {
   "cell_type": "code",
   "execution_count": 48,
   "id": "f5b60557-da5a-4a9b-b5e4-ad0022123c1e",
   "metadata": {},
   "outputs": [
    {
     "data": {
      "text/html": [
       "<div>\n",
       "<style scoped>\n",
       "    .dataframe tbody tr th:only-of-type {\n",
       "        vertical-align: middle;\n",
       "    }\n",
       "\n",
       "    .dataframe tbody tr th {\n",
       "        vertical-align: top;\n",
       "    }\n",
       "\n",
       "    .dataframe thead th {\n",
       "        text-align: right;\n",
       "    }\n",
       "</style>\n",
       "<table border=\"1\" class=\"dataframe\">\n",
       "  <thead>\n",
       "    <tr style=\"text-align: right;\">\n",
       "      <th></th>\n",
       "      <th>city_id</th>\n",
       "      <th>Population</th>\n",
       "      <th>Timestamp_</th>\n",
       "    </tr>\n",
       "  </thead>\n",
       "  <tbody>\n",
       "    <tr>\n",
       "      <th>0</th>\n",
       "      <td>1</td>\n",
       "      <td>3596999</td>\n",
       "      <td>28/01/25</td>\n",
       "    </tr>\n",
       "    <tr>\n",
       "      <th>1</th>\n",
       "      <td>2</td>\n",
       "      <td>1510378</td>\n",
       "      <td>28/01/25</td>\n",
       "    </tr>\n",
       "    <tr>\n",
       "      <th>2</th>\n",
       "      <td>3</td>\n",
       "      <td>3223334</td>\n",
       "      <td>28/01/25</td>\n",
       "    </tr>\n",
       "  </tbody>\n",
       "</table>\n",
       "</div>"
      ],
      "text/plain": [
       "   city_id  Population Timestamp_\n",
       "0        1     3596999   28/01/25\n",
       "1        2     1510378   28/01/25\n",
       "2        3     3223334   28/01/25"
      ]
     },
     "execution_count": 48,
     "metadata": {},
     "output_type": "execute_result"
    }
   ],
   "source": [
    "population_df = (\n",
    "    pop_data_df\n",
    "    .merge(cities_from_sql,\n",
    "           on = \"City\",\n",
    "           how = \"inner\")\n",
    "    [['city_id','Population','Timestamp_']]\n",
    ")\n",
    "population_df"
   ]
  },
  {
   "cell_type": "code",
   "execution_count": 51,
   "id": "ad86ee27-53e2-4a8b-8ea3-83420cddaff8",
   "metadata": {},
   "outputs": [
    {
     "data": {
      "text/plain": [
       "3"
      ]
     },
     "execution_count": 51,
     "metadata": {},
     "output_type": "execute_result"
    }
   ],
   "source": [
    "population_df.to_sql('population',\n",
    "                  if_exists='append',\n",
    "                  con=connection_string,\n",
    "                  index=False)"
   ]
  },
  {
   "cell_type": "code",
   "execution_count": 53,
   "id": "3c31239f-26ff-405a-8ed9-326ef7075e1c",
   "metadata": {},
   "outputs": [
    {
     "data": {
      "text/html": [
       "<div>\n",
       "<style scoped>\n",
       "    .dataframe tbody tr th:only-of-type {\n",
       "        vertical-align: middle;\n",
       "    }\n",
       "\n",
       "    .dataframe tbody tr th {\n",
       "        vertical-align: top;\n",
       "    }\n",
       "\n",
       "    .dataframe thead th {\n",
       "        text-align: right;\n",
       "    }\n",
       "</style>\n",
       "<table border=\"1\" class=\"dataframe\">\n",
       "  <thead>\n",
       "    <tr style=\"text-align: right;\">\n",
       "      <th></th>\n",
       "      <th>population_id</th>\n",
       "      <th>city_id</th>\n",
       "      <th>Population</th>\n",
       "      <th>Timestamp_</th>\n",
       "    </tr>\n",
       "  </thead>\n",
       "  <tbody>\n",
       "    <tr>\n",
       "      <th>0</th>\n",
       "      <td>1</td>\n",
       "      <td>1</td>\n",
       "      <td>3596999</td>\n",
       "      <td>2028-01-25</td>\n",
       "    </tr>\n",
       "    <tr>\n",
       "      <th>1</th>\n",
       "      <td>2</td>\n",
       "      <td>2</td>\n",
       "      <td>1510378</td>\n",
       "      <td>2028-01-25</td>\n",
       "    </tr>\n",
       "    <tr>\n",
       "      <th>2</th>\n",
       "      <td>3</td>\n",
       "      <td>3</td>\n",
       "      <td>3223334</td>\n",
       "      <td>2028-01-25</td>\n",
       "    </tr>\n",
       "  </tbody>\n",
       "</table>\n",
       "</div>"
      ],
      "text/plain": [
       "   population_id  city_id  Population Timestamp_\n",
       "0              1        1     3596999 2028-01-25\n",
       "1              2        2     1510378 2028-01-25\n",
       "2              3        3     3223334 2028-01-25"
      ]
     },
     "execution_count": 53,
     "metadata": {},
     "output_type": "execute_result"
    }
   ],
   "source": [
    "population_df = pd.read_sql(\"population\", con=connection_string)\n",
    "population_df"
   ]
  },
  {
   "cell_type": "code",
   "execution_count": null,
   "id": "dca6e8b0-27e8-4087-aa98-a0667d77d171",
   "metadata": {},
   "outputs": [],
   "source": []
  }
 ],
 "metadata": {
  "kernelspec": {
   "display_name": "Python 3 (ipykernel)",
   "language": "python",
   "name": "python3"
  },
  "language_info": {
   "codemirror_mode": {
    "name": "ipython",
    "version": 3
   },
   "file_extension": ".py",
   "mimetype": "text/x-python",
   "name": "python",
   "nbconvert_exporter": "python",
   "pygments_lexer": "ipython3",
   "version": "3.12.7"
  }
 },
 "nbformat": 4,
 "nbformat_minor": 5
}
